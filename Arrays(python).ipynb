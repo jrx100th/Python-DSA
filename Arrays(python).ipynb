{
  "nbformat": 4,
  "nbformat_minor": 0,
  "metadata": {
    "colab": {
      "provenance": []
    },
    "kernelspec": {
      "name": "python3",
      "display_name": "Python 3"
    },
    "language_info": {
      "name": "python"
    }
  },
  "cells": [
    {
      "cell_type": "markdown",
      "source": [
        "numpy is faster than lists...like way faster\n",
        "numpy - int32/ int16/ int8 - 4bytes   - contigous memory - less time to traverse\n",
        "- SIMD vector processing unit(single instruction multiple data)\n",
        "- effective cache utilization\n",
        "\n",
        "lists - built in 4 types - depends and obviously more memory than a numpy array\n",
        "- scattered memory - not in an order - so more time to traverse\n",
        "\n",
        "difference\n",
        "numpy - do stuff faster and effecient..easy - math\n",
        "\n",
        "list - not better than numpy, lets see in the practical\n",
        "\n",
        "Applications of numpy\n",
        "- math(matlab)\n",
        "- plotting(matplotlin)\n",
        "backend - pandas\n",
        "Machine learning (tensor and stuff like that) - dont know right now"
      ],
      "metadata": {
        "id": "mQ_MCJ5Basf2"
      }
    },
    {
      "cell_type": "code",
      "source": [
        "import numpy as np\n",
        "import random"
      ],
      "metadata": {
        "id": "IgGsRicXchXG"
      },
      "execution_count": 2,
      "outputs": []
    },
    {
      "cell_type": "markdown",
      "source": [
        "# The Basics"
      ],
      "metadata": {
        "id": "00kIL6RSc38s"
      }
    },
    {
      "cell_type": "code",
      "source": [
        "a = np.array([1,2,3])\n",
        "print(a)"
      ],
      "metadata": {
        "colab": {
          "base_uri": "https://localhost:8080/"
        },
        "id": "6-p98Xd6c3dB",
        "outputId": "c302854b-da55-4dfa-b792-50168431c3c2"
      },
      "execution_count": 3,
      "outputs": [
        {
          "output_type": "stream",
          "name": "stdout",
          "text": [
            "[1 2 3]\n"
          ]
        }
      ]
    },
    {
      "cell_type": "code",
      "source": [
        "b = np.array([[9.0,8.0,7.0],[6.0,5.0,4.0]])\n",
        "print(b)"
      ],
      "metadata": {
        "colab": {
          "base_uri": "https://localhost:8080/"
        },
        "id": "nxZBus0LdYV3",
        "outputId": "5a627af6-46be-45c1-9b83-da4a7bdc2f11"
      },
      "execution_count": 4,
      "outputs": [
        {
          "output_type": "stream",
          "name": "stdout",
          "text": [
            "[[9. 8. 7.]\n",
            " [6. 5. 4.]]\n"
          ]
        }
      ]
    },
    {
      "cell_type": "code",
      "source": [
        "# Get Dinension\n",
        "print(a.ndim)\n",
        "print(b.ndim)"
      ],
      "metadata": {
        "colab": {
          "base_uri": "https://localhost:8080/"
        },
        "id": "Jl19Op2odoEk",
        "outputId": "2076c200-a397-42f3-9803-1be74954d4fd"
      },
      "execution_count": 5,
      "outputs": [
        {
          "output_type": "stream",
          "name": "stdout",
          "text": [
            "1\n",
            "2\n"
          ]
        }
      ]
    },
    {
      "cell_type": "code",
      "source": [
        "# Get shape\n",
        "print(a)\n",
        "print(a.shape) #vector\n",
        "print(b)\n",
        "print(b.shape)\n",
        "# now it should make sense"
      ],
      "metadata": {
        "colab": {
          "base_uri": "https://localhost:8080/"
        },
        "id": "lHPNPmaod0zI",
        "outputId": "dcf17f03-3a2b-424b-cfdb-6570431661e8"
      },
      "execution_count": 6,
      "outputs": [
        {
          "output_type": "stream",
          "name": "stdout",
          "text": [
            "[1 2 3]\n",
            "(3,)\n",
            "[[9. 8. 7.]\n",
            " [6. 5. 4.]]\n",
            "(2, 3)\n"
          ]
        }
      ]
    },
    {
      "cell_type": "code",
      "source": [
        "# Get type and the size\n",
        "print(a.dtype,\n",
        "b.dtype)"
      ],
      "metadata": {
        "colab": {
          "base_uri": "https://localhost:8080/"
        },
        "id": "ATGjE_MGedc2",
        "outputId": "42d189f2-bc6a-4df3-f67c-1a40df7da808"
      },
      "execution_count": 7,
      "outputs": [
        {
          "output_type": "stream",
          "name": "stdout",
          "text": [
            "int64 float64\n"
          ]
        }
      ]
    },
    {
      "cell_type": "code",
      "source": [
        "# Creating the array and specifying the dtype and size\n",
        "a = np.array([1,2,3], dtype = 'int16')\n",
        "print(a.dtype)"
      ],
      "metadata": {
        "colab": {
          "base_uri": "https://localhost:8080/"
        },
        "id": "gGzJFwKefBFU",
        "outputId": "f6be7669-5116-4e7d-ef01-08c3bd201cad"
      },
      "execution_count": 8,
      "outputs": [
        {
          "output_type": "stream",
          "name": "stdout",
          "text": [
            "int16\n"
          ]
        }
      ]
    },
    {
      "cell_type": "code",
      "source": [
        "# get size\n",
        "a.itemsize # this will print the number of bytes"
      ],
      "metadata": {
        "colab": {
          "base_uri": "https://localhost:8080/"
        },
        "id": "Fqtx9t11fn7C",
        "outputId": "ac3b5804-2642-49ed-d513-4d56b9e095cb"
      },
      "execution_count": 9,
      "outputs": [
        {
          "output_type": "execute_result",
          "data": {
            "text/plain": [
              "2"
            ]
          },
          "metadata": {},
          "execution_count": 9
        }
      ]
    },
    {
      "cell_type": "code",
      "source": [
        "# suppose i re assign the values\n",
        "a = np.array([1,2,3], dtype = 'int32')\n",
        "print(a.itemsize) # now it will show the 4 bytes - 32/8 = 4 bytes"
      ],
      "metadata": {
        "colab": {
          "base_uri": "https://localhost:8080/"
        },
        "id": "pfqMregUfyMH",
        "outputId": "ced7ca4f-8b28-4923-c077-15ec6e59a88c"
      },
      "execution_count": 10,
      "outputs": [
        {
          "output_type": "stream",
          "name": "stdout",
          "text": [
            "4\n"
          ]
        }
      ]
    },
    {
      "cell_type": "code",
      "source": [
        "# get total size\n",
        "a.size\n",
        "# the total number of elements inside it"
      ],
      "metadata": {
        "colab": {
          "base_uri": "https://localhost:8080/"
        },
        "id": "fn-dAvLagGmJ",
        "outputId": "bc8885cb-dcc3-4890-aa88-0d4c772f4ac7"
      },
      "execution_count": 11,
      "outputs": [
        {
          "output_type": "execute_result",
          "data": {
            "text/plain": [
              "3"
            ]
          },
          "metadata": {},
          "execution_count": 11
        }
      ]
    },
    {
      "cell_type": "code",
      "source": [
        "# get total size\n",
        "a.size * a.itemsize\n",
        "# total storage taken by the array"
      ],
      "metadata": {
        "colab": {
          "base_uri": "https://localhost:8080/"
        },
        "id": "zW3wBK1CgTzs",
        "outputId": "35985477-7e34-4e01-f862-74aff5363e1a"
      },
      "execution_count": 12,
      "outputs": [
        {
          "output_type": "execute_result",
          "data": {
            "text/plain": [
              "12"
            ]
          },
          "metadata": {},
          "execution_count": 12
        }
      ]
    },
    {
      "cell_type": "code",
      "source": [
        "# get total size\n",
        "a.nbytes\n",
        "# same thing as above"
      ],
      "metadata": {
        "colab": {
          "base_uri": "https://localhost:8080/"
        },
        "id": "Ue58jvykgmqK",
        "outputId": "b7f9688a-8313-4de0-ac6a-cb0ed11725fe"
      },
      "execution_count": 13,
      "outputs": [
        {
          "output_type": "execute_result",
          "data": {
            "text/plain": [
              "12"
            ]
          },
          "metadata": {},
          "execution_count": 13
        }
      ]
    },
    {
      "cell_type": "code",
      "source": [
        "# b is float\n",
        "print(b)\n",
        "# 6 items in 2 lists and they are in float64 format"
      ],
      "metadata": {
        "colab": {
          "base_uri": "https://localhost:8080/"
        },
        "id": "KC8zVzwOguBA",
        "outputId": "12299627-59c6-464e-9047-a391745c8776"
      },
      "execution_count": 14,
      "outputs": [
        {
          "output_type": "stream",
          "name": "stdout",
          "text": [
            "[[9. 8. 7.]\n",
            " [6. 5. 4.]]\n"
          ]
        }
      ]
    },
    {
      "cell_type": "code",
      "source": [
        "# reassigning the dtype to b\n",
        "b = np.array([[9.0, 8.0, 7.0], [6.0, 5.0, 4.0]], dtype=np.float32)\n",
        "# floats are bigger than integers\n",
        "# use np.float32"
      ],
      "metadata": {
        "id": "oPz0pIkNgzLU"
      },
      "execution_count": 15,
      "outputs": []
    },
    {
      "cell_type": "code",
      "source": [
        "b.nbytes"
      ],
      "metadata": {
        "colab": {
          "base_uri": "https://localhost:8080/"
        },
        "id": "LMlmlx8GhrEc",
        "outputId": "9f64373f-7660-4c43-ba40-39954c8b7ddc"
      },
      "execution_count": 16,
      "outputs": [
        {
          "output_type": "execute_result",
          "data": {
            "text/plain": [
              "24"
            ]
          },
          "metadata": {},
          "execution_count": 16
        }
      ]
    },
    {
      "cell_type": "code",
      "source": [
        "b.size * b.itemsize"
      ],
      "metadata": {
        "colab": {
          "base_uri": "https://localhost:8080/"
        },
        "id": "tXJ89qk2iOMn",
        "outputId": "ef0ff194-eefa-441b-f391-c34700cc840d"
      },
      "execution_count": 17,
      "outputs": [
        {
          "output_type": "execute_result",
          "data": {
            "text/plain": [
              "24"
            ]
          },
          "metadata": {},
          "execution_count": 17
        }
      ]
    },
    {
      "cell_type": "markdown",
      "source": [
        "#**Accessing/Changing specific elements, rows, columns, etc**"
      ],
      "metadata": {
        "id": "clrOjnBckA7i"
      }
    },
    {
      "cell_type": "code",
      "source": [
        "# Creating a 2D array\n",
        "a = np.array([[1,2,3,4,5,6,7],[8,9,10,11,12,13,14]])\n",
        "# this should be a 2/7 array\n",
        "print(a)"
      ],
      "metadata": {
        "colab": {
          "base_uri": "https://localhost:8080/"
        },
        "id": "qVkNLvYbkcbl",
        "outputId": "7d088066-c36f-41fd-8f6e-ac5f1c702715"
      },
      "execution_count": 18,
      "outputs": [
        {
          "output_type": "stream",
          "name": "stdout",
          "text": [
            "[[ 1  2  3  4  5  6  7]\n",
            " [ 8  9 10 11 12 13 14]]\n"
          ]
        }
      ]
    },
    {
      "cell_type": "code",
      "source": [
        "print(a.shape)"
      ],
      "metadata": {
        "colab": {
          "base_uri": "https://localhost:8080/"
        },
        "id": "qcIm5e8Nky95",
        "outputId": "773ab26a-3c7f-4336-f366-ff01987ec182"
      },
      "execution_count": 19,
      "outputs": [
        {
          "output_type": "stream",
          "name": "stdout",
          "text": [
            "(2, 7)\n"
          ]
        }
      ]
    },
    {
      "cell_type": "code",
      "source": [
        "# Get a specific element [r, c]\n",
        "# trying to get 13\n",
        "a[1,5] # numbers through indexing"
      ],
      "metadata": {
        "colab": {
          "base_uri": "https://localhost:8080/"
        },
        "id": "ehkl2ZT7k3NQ",
        "outputId": "dcb12bc0-e911-488e-df20-10a6885d2e89"
      },
      "execution_count": 20,
      "outputs": [
        {
          "output_type": "execute_result",
          "data": {
            "text/plain": [
              "13"
            ]
          },
          "metadata": {},
          "execution_count": 20
        }
      ]
    },
    {
      "cell_type": "code",
      "source": [
        "# using the -ve notation similar to lists\n",
        "print(\n",
        "    a[1,-2]\n",
        ")"
      ],
      "metadata": {
        "colab": {
          "base_uri": "https://localhost:8080/"
        },
        "id": "kO93uOKRlNgL",
        "outputId": "de4aeb83-c620-4907-aeaf-299a1f13241d"
      },
      "execution_count": 21,
      "outputs": [
        {
          "output_type": "stream",
          "name": "stdout",
          "text": [
            "13\n"
          ]
        }
      ]
    },
    {
      "cell_type": "code",
      "source": [
        "# get a specific row\n",
        "print(\n",
        "    a[0]\n",
        ")"
      ],
      "metadata": {
        "colab": {
          "base_uri": "https://localhost:8080/"
        },
        "id": "A1F-Vj32lV4A",
        "outputId": "83c8f977-79bb-4bb9-a6c9-1bdf24d78653"
      },
      "execution_count": 22,
      "outputs": [
        {
          "output_type": "stream",
          "name": "stdout",
          "text": [
            "[1 2 3 4 5 6 7]\n"
          ]
        }
      ]
    },
    {
      "cell_type": "code",
      "source": [
        "# getting everything in the row\n",
        "print(\n",
        "    a[0, :]\n",
        ")"
      ],
      "metadata": {
        "colab": {
          "base_uri": "https://localhost:8080/"
        },
        "id": "zSzqEbBMlasQ",
        "outputId": "8d1ccc3d-c5de-4c6f-9c35-3d7071d2ed11"
      },
      "execution_count": 23,
      "outputs": [
        {
          "output_type": "stream",
          "name": "stdout",
          "text": [
            "[1 2 3 4 5 6 7]\n"
          ]
        }
      ]
    },
    {
      "cell_type": "code",
      "source": [
        "# get a specific column - 3, 10\n",
        "print(\n",
        "    a[:,2]\n",
        ")\n",
        "# everything from the second column"
      ],
      "metadata": {
        "colab": {
          "base_uri": "https://localhost:8080/"
        },
        "id": "gZettyg6ljFd",
        "outputId": "ab530cc0-775b-4977-bfc3-d38928e58189"
      },
      "execution_count": 24,
      "outputs": [
        {
          "output_type": "stream",
          "name": "stdout",
          "text": [
            "[ 3 10]\n"
          ]
        }
      ]
    },
    {
      "cell_type": "code",
      "source": [
        "# getting little more fancy [startindex : endindex : stepsize]\n",
        "print(a)\n",
        "# getting num from 2 and 6\n",
        "\n",
        "a[0,1:6]"
      ],
      "metadata": {
        "colab": {
          "base_uri": "https://localhost:8080/"
        },
        "id": "5kdHqjo7lySk",
        "outputId": "47c4d5d4-60de-4e60-bf3b-a39c496dcfe0"
      },
      "execution_count": 25,
      "outputs": [
        {
          "output_type": "stream",
          "name": "stdout",
          "text": [
            "[[ 1  2  3  4  5  6  7]\n",
            " [ 8  9 10 11 12 13 14]]\n"
          ]
        },
        {
          "output_type": "execute_result",
          "data": {
            "text/plain": [
              "array([2, 3, 4, 5, 6])"
            ]
          },
          "metadata": {},
          "execution_count": 25
        }
      ]
    },
    {
      "cell_type": "code",
      "source": [
        "# getting the same output as the a[0,1:6]\n",
        "print(\n",
        "    a[0,1:-1]\n",
        ")"
      ],
      "metadata": {
        "colab": {
          "base_uri": "https://localhost:8080/"
        },
        "id": "e7dB5WSFm0YB",
        "outputId": "25e880e1-651d-4e03-9521-bbcec8fa8c67"
      },
      "execution_count": 26,
      "outputs": [
        {
          "output_type": "stream",
          "name": "stdout",
          "text": [
            "[2 3 4 5 6]\n"
          ]
        }
      ]
    },
    {
      "cell_type": "code",
      "source": [
        "# now using the stepsize and getting the even numbers\n",
        "print(a)\n",
        "print(\n",
        "    a[0,1:6:2]\n",
        ") # 2,4,6 will be outputtes"
      ],
      "metadata": {
        "colab": {
          "base_uri": "https://localhost:8080/"
        },
        "id": "3Mg9MpXTsme5",
        "outputId": "6c9e24d7-065d-4f47-8bb9-77028d751d42"
      },
      "execution_count": 27,
      "outputs": [
        {
          "output_type": "stream",
          "name": "stdout",
          "text": [
            "[[ 1  2  3  4  5  6  7]\n",
            " [ 8  9 10 11 12 13 14]]\n",
            "[2 4 6]\n"
          ]
        }
      ]
    },
    {
      "cell_type": "code",
      "source": [
        "# changing the values\n",
        "# from 13 to 20\n",
        "\n",
        "print(a)\n",
        "\n",
        "(a[1,-2]) = 20\n",
        "\n",
        "print(\"now it is changed\")\n",
        "print(a)"
      ],
      "metadata": {
        "colab": {
          "base_uri": "https://localhost:8080/"
        },
        "id": "XGi2dDBHsrgy",
        "outputId": "77dc2cf9-37d4-4c75-a7e7-1dca7f2cbf2e"
      },
      "execution_count": 28,
      "outputs": [
        {
          "output_type": "stream",
          "name": "stdout",
          "text": [
            "[[ 1  2  3  4  5  6  7]\n",
            " [ 8  9 10 11 12 13 14]]\n",
            "now it is changed\n",
            "[[ 1  2  3  4  5  6  7]\n",
            " [ 8  9 10 11 12 20 14]]\n"
          ]
        }
      ]
    },
    {
      "cell_type": "code",
      "source": [
        "# changing for series of numbers like for an entire column\n",
        "# that 3,10 column\n",
        "\n",
        "print(a)\n",
        "a[:,2] = 5\n",
        "\n",
        "# now the entire row will get the 5 as its value\n",
        "print(\"after changing\")\n",
        "print(a)\n",
        "print(\"changing it to be two different numbers\")\n",
        "a[:,2] = [1,2]\n",
        "print(a)"
      ],
      "metadata": {
        "colab": {
          "base_uri": "https://localhost:8080/"
        },
        "id": "GZcVrHzYtSCr",
        "outputId": "3b57afd9-b288-4a40-f086-c8fde0ad635d"
      },
      "execution_count": 29,
      "outputs": [
        {
          "output_type": "stream",
          "name": "stdout",
          "text": [
            "[[ 1  2  3  4  5  6  7]\n",
            " [ 8  9 10 11 12 20 14]]\n",
            "after changing\n",
            "[[ 1  2  5  4  5  6  7]\n",
            " [ 8  9  5 11 12 20 14]]\n",
            "changing it to be two different numbers\n",
            "[[ 1  2  1  4  5  6  7]\n",
            " [ 8  9  2 11 12 20 14]]\n"
          ]
        }
      ]
    },
    {
      "cell_type": "code",
      "source": [],
      "metadata": {
        "id": "O7iKLTxpt1ki"
      },
      "execution_count": 29,
      "outputs": []
    },
    {
      "cell_type": "markdown",
      "source": [
        "# **3D example**"
      ],
      "metadata": {
        "id": "r5ECkhNqvdbr"
      }
    },
    {
      "cell_type": "code",
      "source": [
        "b = np.array([[[1,2],[3,4]],[[5,6],[7,8]]])\n",
        "print(b)"
      ],
      "metadata": {
        "colab": {
          "base_uri": "https://localhost:8080/"
        },
        "id": "Kds0v3PMvhAz",
        "outputId": "6dcf82f3-475c-4fec-c52d-86c915254845"
      },
      "execution_count": 30,
      "outputs": [
        {
          "output_type": "stream",
          "name": "stdout",
          "text": [
            "[[[1 2]\n",
            "  [3 4]]\n",
            "\n",
            " [[5 6]\n",
            "  [7 8]]]\n"
          ]
        }
      ]
    },
    {
      "cell_type": "code",
      "source": [
        "# get a specific element (work outside in)\n",
        "# getting 4 from b\n",
        "b[0,1,1]"
      ],
      "metadata": {
        "colab": {
          "base_uri": "https://localhost:8080/"
        },
        "id": "Kx6iKp4Nv048",
        "outputId": "4a27f458-eccc-4e3f-f2c0-6021628a1c58"
      },
      "execution_count": 31,
      "outputs": [
        {
          "output_type": "execute_result",
          "data": {
            "text/plain": [
              "4"
            ]
          },
          "metadata": {},
          "execution_count": 31
        }
      ]
    },
    {
      "cell_type": "code",
      "source": [
        "# getting [3,4],[7,8]\n",
        "\n",
        "b[:,1,:]\n",
        "# everything from the first index and the 2nd one and everythin grom the 2nd row\n",
        "\n",
        "# just play around"
      ],
      "metadata": {
        "colab": {
          "base_uri": "https://localhost:8080/"
        },
        "id": "bXmv480uwY-F",
        "outputId": "fadd8f8f-f8ae-4055-af7a-11ddbbbe01b5"
      },
      "execution_count": 32,
      "outputs": [
        {
          "output_type": "execute_result",
          "data": {
            "text/plain": [
              "array([[3, 4],\n",
              "       [7, 8]])"
            ]
          },
          "metadata": {},
          "execution_count": 32
        }
      ]
    },
    {
      "cell_type": "code",
      "source": [
        "# replacing the subsequent sets of same dimension\n",
        "b[:,1,:] = [[9,9,],[8,8]]\n",
        "print(b)\n",
        "\n",
        "# challenge at the end of the video"
      ],
      "metadata": {
        "colab": {
          "base_uri": "https://localhost:8080/"
        },
        "id": "h7pNMljayRzJ",
        "outputId": "979b8c10-eb68-46d8-c402-623e6c380ede"
      },
      "execution_count": 33,
      "outputs": [
        {
          "output_type": "stream",
          "name": "stdout",
          "text": [
            "[[[1 2]\n",
            "  [9 9]]\n",
            "\n",
            " [[5 6]\n",
            "  [8 8]]]\n"
          ]
        }
      ]
    },
    {
      "cell_type": "markdown",
      "source": [
        "# **Initializing Different Types of Arrays**"
      ],
      "metadata": {
        "id": "ye3CInydzFwD"
      }
    },
    {
      "cell_type": "code",
      "source": [
        "# All 0's matrix\n",
        "\n",
        "# builtin function\n",
        "np.zeros(5) # - gives me a vector of length 5\n",
        "\n",
        "# going 2d\n",
        "np.zeros((2,3)) # 2*3 matrix\n",
        "\n",
        "# going 3d\n",
        "np.zeros((2,3,3))\n",
        "\n",
        "# always use a double parenthesis\n",
        "\n",
        "# going 4d\n",
        "np.zeros((2,3,3,2))\n",
        "\n",
        "# will print all zeros\n",
        "# yeah it gets more craazy"
      ],
      "metadata": {
        "colab": {
          "base_uri": "https://localhost:8080/"
        },
        "id": "5XzUOoQKyrP7",
        "outputId": "02c68be0-d5e6-4fc1-ad15-0fc6f0021ef2"
      },
      "execution_count": 34,
      "outputs": [
        {
          "output_type": "execute_result",
          "data": {
            "text/plain": [
              "array([[[[0., 0.],\n",
              "         [0., 0.],\n",
              "         [0., 0.]],\n",
              "\n",
              "        [[0., 0.],\n",
              "         [0., 0.],\n",
              "         [0., 0.]],\n",
              "\n",
              "        [[0., 0.],\n",
              "         [0., 0.],\n",
              "         [0., 0.]]],\n",
              "\n",
              "\n",
              "       [[[0., 0.],\n",
              "         [0., 0.],\n",
              "         [0., 0.]],\n",
              "\n",
              "        [[0., 0.],\n",
              "         [0., 0.],\n",
              "         [0., 0.]],\n",
              "\n",
              "        [[0., 0.],\n",
              "         [0., 0.],\n",
              "         [0., 0.]]]])"
            ]
          },
          "metadata": {},
          "execution_count": 34
        }
      ]
    },
    {
      "cell_type": "code",
      "source": [
        "import numpy as np\n",
        "# All one's matrix 1's\n",
        "np.ones((2,3))\n",
        "\n",
        "# yeah similar to the zeros\n",
        "\n",
        "\n",
        "# All ones but int32\n",
        "one = np.ones((4,2,2),dtype='int8')\n",
        "\n",
        "print(one.nbytes) # will be 1 byte\n",
        "print(one)"
      ],
      "metadata": {
        "colab": {
          "base_uri": "https://localhost:8080/"
        },
        "id": "matWR4JT0ID8",
        "outputId": "efb8d68c-1e54-4e5d-898c-47a44ad1e3a0"
      },
      "execution_count": 35,
      "outputs": [
        {
          "output_type": "stream",
          "name": "stdout",
          "text": [
            "16\n",
            "[[[1 1]\n",
            "  [1 1]]\n",
            "\n",
            " [[1 1]\n",
            "  [1 1]]\n",
            "\n",
            " [[1 1]\n",
            "  [1 1]]\n",
            "\n",
            " [[1 1]\n",
            "  [1 1]]]\n"
          ]
        }
      ]
    },
    {
      "cell_type": "code",
      "source": [
        "# using other number for the creating an array with a particular number\n",
        "np.full((2,2),99, dtype='float32')\n",
        "\n",
        "# here we just stated that we need a 2*2 matrix with full of 99 in it"
      ],
      "metadata": {
        "colab": {
          "base_uri": "https://localhost:8080/"
        },
        "id": "hIVZUtds01s9",
        "outputId": "6b0afa19-a2b3-44ed-9c97-c67413934936"
      },
      "execution_count": 36,
      "outputs": [
        {
          "output_type": "execute_result",
          "data": {
            "text/plain": [
              "array([[99., 99.],\n",
              "       [99., 99.]], dtype=float32)"
            ]
          },
          "metadata": {},
          "execution_count": 36
        }
      ]
    },
    {
      "cell_type": "code",
      "source": [
        "# Any other number (full_like)\n",
        "# reuse 'a' array\n",
        "print(a)\n",
        "\n",
        "a4 = np.full_like(a,4)\n",
        "\n",
        "print(a4)\n",
        "\n",
        "# a4 has the same shape/dimension as the 2*7\n",
        "print(a.shape)\n",
        "print(a4.shape)"
      ],
      "metadata": {
        "colab": {
          "base_uri": "https://localhost:8080/"
        },
        "id": "8iyvZoHS1pCl",
        "outputId": "9f37ee5a-a1ab-4608-b3fe-2d9609de3bc9"
      },
      "execution_count": 37,
      "outputs": [
        {
          "output_type": "stream",
          "name": "stdout",
          "text": [
            "[[ 1  2  1  4  5  6  7]\n",
            " [ 8  9  2 11 12 20 14]]\n",
            "[[4 4 4 4 4 4 4]\n",
            " [4 4 4 4 4 4 4]]\n",
            "(2, 7)\n",
            "(2, 7)\n"
          ]
        }
      ]
    },
    {
      "cell_type": "code",
      "source": [
        "# Initialize a array with random decimal number\n",
        "np.random.rand(4,2,3)\n",
        "# instead of passing a tuple(double parenthesis) we can pass directly\n",
        "\n",
        "# it will create a random float in the dimensions"
      ],
      "metadata": {
        "colab": {
          "base_uri": "https://localhost:8080/"
        },
        "id": "XXt7ioqXQJTn",
        "outputId": "7be1c44b-7717-4851-b510-01f57c16629a"
      },
      "execution_count": 38,
      "outputs": [
        {
          "output_type": "execute_result",
          "data": {
            "text/plain": [
              "array([[[0.1490461 , 0.49210742, 0.49858267],\n",
              "        [0.8990654 , 0.10464762, 0.90878862]],\n",
              "\n",
              "       [[0.02387346, 0.87564604, 0.84691479],\n",
              "        [0.86418859, 0.11975913, 0.22538717]],\n",
              "\n",
              "       [[0.38287925, 0.49716871, 0.36977521],\n",
              "        [0.21499232, 0.99826682, 0.06962754]],\n",
              "\n",
              "       [[0.11423203, 0.28368619, 0.40011011],\n",
              "        [0.34746004, 0.08033629, 0.41287731]]])"
            ]
          },
          "metadata": {},
          "execution_count": 38
        }
      ]
    },
    {
      "cell_type": "code",
      "source": [
        "# passing a previously made shape\n",
        "np.random.random_sample(a.shape)\n",
        "print(np.random.random_sample(a.shape).shape)\n",
        "# same shape as the a -- 2*7"
      ],
      "metadata": {
        "colab": {
          "base_uri": "https://localhost:8080/"
        },
        "id": "QS-Wd_dGRiKU",
        "outputId": "bce5319d-c573-4bef-8c1b-a827f80ddcc9"
      },
      "execution_count": 39,
      "outputs": [
        {
          "output_type": "stream",
          "name": "stdout",
          "text": [
            "(2, 7)\n"
          ]
        }
      ]
    },
    {
      "cell_type": "code",
      "source": [
        "# Random integer values\n",
        "np.random.randint(7, size = (3,3))\n",
        "# generates stuff between 1 and 7 in a 3*3 matrix\n",
        "np.random.randint(4,7, size = (3,3))\n",
        "# generates stuff between4 and 7 in a 3*3 matrix\n",
        "np.random.randint(-4,7, size = (3,3))"
      ],
      "metadata": {
        "colab": {
          "base_uri": "https://localhost:8080/"
        },
        "id": "W51ujeQwSeCE",
        "outputId": "2b460c20-9f85-485e-e816-71591d79dfbd"
      },
      "execution_count": 40,
      "outputs": [
        {
          "output_type": "execute_result",
          "data": {
            "text/plain": [
              "array([[-2, -2,  3],\n",
              "       [ 5, -2,  3],\n",
              "       [ 6,  6,  1]])"
            ]
          },
          "metadata": {},
          "execution_count": 40
        }
      ]
    },
    {
      "cell_type": "code",
      "source": [
        "# identity matrix - 1 parameter - square\n",
        "np.identity(5)\n"
      ],
      "metadata": {
        "colab": {
          "base_uri": "https://localhost:8080/"
        },
        "id": "uRB83RaHS5ft",
        "outputId": "80da4908-0716-41f4-eca4-276bad745b95"
      },
      "execution_count": 41,
      "outputs": [
        {
          "output_type": "execute_result",
          "data": {
            "text/plain": [
              "array([[1., 0., 0., 0., 0.],\n",
              "       [0., 1., 0., 0., 0.],\n",
              "       [0., 0., 1., 0., 0.],\n",
              "       [0., 0., 0., 1., 0.],\n",
              "       [0., 0., 0., 0., 1.]])"
            ]
          },
          "metadata": {},
          "execution_count": 41
        }
      ]
    },
    {
      "cell_type": "code",
      "source": [
        "# repeat arrays a few times\n",
        "arr = np.array([1,2,3])\n",
        "r1 = np.repeat(arr,3)\n",
        "print(r1)\n",
        "# 2d array\n",
        "ar2 = np.array([[1,2,3]])\n",
        "r2 = np.repeat(ar2,3,axis = 0)\n",
        "print(r2)"
      ],
      "metadata": {
        "colab": {
          "base_uri": "https://localhost:8080/"
        },
        "id": "7fWqwBkEWVHp",
        "outputId": "b79f4951-d5da-417d-c4b1-b23128972206"
      },
      "execution_count": 42,
      "outputs": [
        {
          "output_type": "stream",
          "name": "stdout",
          "text": [
            "[1 1 1 2 2 2 3 3 3]\n",
            "[[1 2 3]\n",
            " [1 2 3]\n",
            " [1 2 3]]\n"
          ]
        }
      ]
    },
    {
      "cell_type": "code",
      "source": [
        "# challenge\n",
        "ch = np.zeros((5,5))\n",
        "print(f\"{ch}\\n\\n\")\n",
        "ch[0] = [1]\n",
        "ch[4] = [1]\n",
        "ch[:,0] = [1]\n",
        "ch[:,-1] = 1\n",
        "ch[2,2] = 9\n",
        "print(ch)\n",
        "\n",
        "# this is my solution"
      ],
      "metadata": {
        "colab": {
          "base_uri": "https://localhost:8080/"
        },
        "id": "MzTBQ8MqWoko",
        "outputId": "b75722e0-153b-408c-b871-8938995fe950"
      },
      "execution_count": 43,
      "outputs": [
        {
          "output_type": "stream",
          "name": "stdout",
          "text": [
            "[[0. 0. 0. 0. 0.]\n",
            " [0. 0. 0. 0. 0.]\n",
            " [0. 0. 0. 0. 0.]\n",
            " [0. 0. 0. 0. 0.]\n",
            " [0. 0. 0. 0. 0.]]\n",
            "\n",
            "\n",
            "[[1. 1. 1. 1. 1.]\n",
            " [1. 0. 0. 0. 1.]\n",
            " [1. 0. 9. 0. 1.]\n",
            " [1. 0. 0. 0. 1.]\n",
            " [1. 1. 1. 1. 1.]]\n"
          ]
        }
      ]
    },
    {
      "cell_type": "code",
      "source": [
        "# keith solution\n",
        "output = np.ones((5,5))\n",
        "print(output)\n",
        "\n",
        "z = np.zeros((3,3))\n",
        "z[1,1] = 9\n",
        "print(z)\n",
        "\n",
        "# replace the middle part of the ones matrix\n",
        "output[1:4,1:4] = z   # instead of output you can also use -1\n",
        "print(output)"
      ],
      "metadata": {
        "colab": {
          "base_uri": "https://localhost:8080/"
        },
        "id": "xCOjnYOeXvXf",
        "outputId": "440c89ac-fafa-45a4-c941-c67d8e545d0a"
      },
      "execution_count": 44,
      "outputs": [
        {
          "output_type": "stream",
          "name": "stdout",
          "text": [
            "[[1. 1. 1. 1. 1.]\n",
            " [1. 1. 1. 1. 1.]\n",
            " [1. 1. 1. 1. 1.]\n",
            " [1. 1. 1. 1. 1.]\n",
            " [1. 1. 1. 1. 1.]]\n",
            "[[0. 0. 0.]\n",
            " [0. 9. 0.]\n",
            " [0. 0. 0.]]\n",
            "[[1. 1. 1. 1. 1.]\n",
            " [1. 0. 0. 0. 1.]\n",
            " [1. 0. 9. 0. 1.]\n",
            " [1. 0. 0. 0. 1.]\n",
            " [1. 1. 1. 1. 1.]]\n"
          ]
        }
      ]
    },
    {
      "cell_type": "markdown",
      "source": [
        "Be careful when copying arrays"
      ],
      "metadata": {
        "id": "O9nj4cQ0cKo3"
      }
    },
    {
      "cell_type": "code",
      "source": [
        "a = np.array([1,2,3])\n",
        "# a is just a normal array\n",
        "\n",
        "# now we want to make 'b' a direct copy of 'a'\n",
        "b = a\n",
        "print(a)\n",
        "print(b)\n",
        "\n",
        "# now changing b\n",
        "\n",
        "b[0] = 100\n",
        "print(b)\n",
        "print(a)\n",
        "\n",
        "# now even 'a' is changed when we changed values of 'b'\n",
        "\n",
        "# because when we set b = a the varaible is pointing at the same location\n",
        "\n",
        "# so instead of it we are using copy() function\n",
        "\n",
        "print(\"\\n\\nUsing the copy function\")\n",
        "a = np.array([1,2,3])\n",
        "print(a)\n",
        "b = a.copy()\n",
        "print(b)\n",
        "print(\"changing the value of 'b'\")\n",
        "b[0] = 100\n",
        "print(a)\n",
        "print(b)\n",
        "# now the value of a is not changed since the a new array is created and\n",
        "# it is pointing to a different location"
      ],
      "metadata": {
        "colab": {
          "base_uri": "https://localhost:8080/"
        },
        "id": "2lf_HTrbaGJ-",
        "outputId": "7d7702e2-38aa-4e59-b3c9-8edb1260545e"
      },
      "execution_count": 45,
      "outputs": [
        {
          "output_type": "stream",
          "name": "stdout",
          "text": [
            "[1 2 3]\n",
            "[1 2 3]\n",
            "[100   2   3]\n",
            "[100   2   3]\n",
            "\n",
            "\n",
            "Using the copy function\n",
            "[1 2 3]\n",
            "[1 2 3]\n",
            "changing the value of 'b'\n",
            "[1 2 3]\n",
            "[100   2   3]\n"
          ]
        }
      ]
    },
    {
      "cell_type": "markdown",
      "source": [
        "# **Mathematics**"
      ],
      "metadata": {
        "id": "gNXhpVgydpzZ"
      }
    },
    {
      "cell_type": "code",
      "source": [
        "# \"Element\" wise addition subtraction....math operations\n",
        "a = np.array([1,2,3,4])\n",
        "print(a)\n",
        "print(a+2)\n",
        "print(a-2)\n",
        "print(a*2)\n",
        "print(a/2)"
      ],
      "metadata": {
        "colab": {
          "base_uri": "https://localhost:8080/"
        },
        "id": "lMSpC0FFcQWW",
        "outputId": "7a1f7823-babf-4f6b-ef44-d83240ef8094"
      },
      "execution_count": 46,
      "outputs": [
        {
          "output_type": "stream",
          "name": "stdout",
          "text": [
            "[1 2 3 4]\n",
            "[3 4 5 6]\n",
            "[-1  0  1  2]\n",
            "[2 4 6 8]\n",
            "[0.5 1.  1.5 2. ]\n"
          ]
        }
      ]
    },
    {
      "cell_type": "code",
      "source": [
        "b = np.array([1,0,1,0])\n",
        "print(a**b)\n",
        "print(a*b)\n",
        "print(a-b)\n",
        "print(a+b)\n",
        "# element wise addition...can be done any math ops"
      ],
      "metadata": {
        "colab": {
          "base_uri": "https://localhost:8080/"
        },
        "id": "o2hn7hH3ebss",
        "outputId": "0b095c7a-d9a7-4864-b956-ee6c27eddc8c"
      },
      "execution_count": 47,
      "outputs": [
        {
          "output_type": "stream",
          "name": "stdout",
          "text": [
            "[1 1 3 1]\n",
            "[1 0 3 0]\n",
            "[0 2 2 4]\n",
            "[2 2 4 4]\n"
          ]
        }
      ]
    },
    {
      "cell_type": "code",
      "source": [
        "# tirgnomateric operations\n",
        "\n",
        "# take the sin of all values\n",
        "print(np.sin(a))\n",
        "print(np.cos(a))"
      ],
      "metadata": {
        "colab": {
          "base_uri": "https://localhost:8080/"
        },
        "id": "sht_fb5Jhpug",
        "outputId": "448358b8-55f5-4a00-be2c-336fcef6874b"
      },
      "execution_count": 48,
      "outputs": [
        {
          "output_type": "stream",
          "name": "stdout",
          "text": [
            "[ 0.84147098  0.90929743  0.14112001 -0.7568025 ]\n",
            "[ 0.54030231 -0.41614684 -0.9899925  -0.65364362]\n"
          ]
        }
      ]
    },
    {
      "cell_type": "markdown",
      "source": [
        "# **Linear Algebra**"
      ],
      "metadata": {
        "id": "R6viN90oi382"
      }
    },
    {
      "cell_type": "code",
      "source": [
        "# Basic and functions on elements - like matlab kinda LA\n",
        "\n",
        "# Not doing element wise\n",
        "\n",
        "a = np.full((2,3),1) # 2*3 matrix of all ones\n",
        "print(a)\n",
        "\n",
        "b = np.full((3,2),2)\n",
        "print(b)\n",
        "\n",
        "# yo know basics math operation  like the matrix multiplication\n",
        "# but still the a*b is not gonna work because they are of different sizes\n",
        "\n",
        "# so now we need to use the matmul()\n",
        "\n",
        "np.matmul(a,b) # regular math - dimension compatibility"
      ],
      "metadata": {
        "colab": {
          "base_uri": "https://localhost:8080/"
        },
        "id": "2mz7oEI1iY5v",
        "outputId": "44bfcf94-a0f2-4dec-d1d4-b8303dfcc2c7"
      },
      "execution_count": 49,
      "outputs": [
        {
          "output_type": "stream",
          "name": "stdout",
          "text": [
            "[[1 1 1]\n",
            " [1 1 1]]\n",
            "[[2 2]\n",
            " [2 2]\n",
            " [2 2]]\n"
          ]
        },
        {
          "output_type": "execute_result",
          "data": {
            "text/plain": [
              "array([[6, 6],\n",
              "       [6, 6]])"
            ]
          },
          "metadata": {},
          "execution_count": 49
        }
      ]
    },
    {
      "cell_type": "code",
      "source": [
        "# find the determinent of the matrix\n",
        "\n",
        "# determinent of the identity matrix is one(always)\n",
        "c = np.identity(3)\n",
        "print(c)\n",
        "det_c = np.linalg.det(c)\n",
        "print(det_c)"
      ],
      "metadata": {
        "colab": {
          "base_uri": "https://localhost:8080/"
        },
        "id": "wc2e7kAxjK5T",
        "outputId": "fa82c008-0643-4249-e2c2-239a20625d19"
      },
      "execution_count": 50,
      "outputs": [
        {
          "output_type": "stream",
          "name": "stdout",
          "text": [
            "[[1. 0. 0.]\n",
            " [0. 1. 0.]\n",
            " [0. 0. 1.]]\n",
            "1.0\n"
          ]
        }
      ]
    },
    {
      "cell_type": "code",
      "source": [
        "# eigen value, inverse of a matrix\n",
        "# just go to the documentation or the chatgpt\n"
      ],
      "metadata": {
        "id": "SwA37UZQlVIf"
      },
      "execution_count": 51,
      "outputs": []
    },
    {
      "cell_type": "markdown",
      "source": [
        "# **Statistics**\n"
      ],
      "metadata": {
        "id": "YV-V21IUlvG8"
      }
    },
    {
      "cell_type": "code",
      "source": [
        "stats = np.array([[1,2,3],[4,5,6]])\n",
        "print(stats)\n",
        "\n",
        "# min of it\n",
        "print(np.min(stats))\n",
        "# max of it\n",
        "print(np.max(stats))\n",
        "\n",
        "# doing it on a row basis - axis = 1\n",
        "print(np.min(stats, axis = 1)) # shows the minimm in column wise\n",
        "print(np.min(stats, axis = 0)) # shows the minimum in row wise"
      ],
      "metadata": {
        "colab": {
          "base_uri": "https://localhost:8080/"
        },
        "id": "piVtSYQrlzGp",
        "outputId": "9d4cbfe5-17ef-434f-b3aa-582c61a8e8e4"
      },
      "execution_count": 52,
      "outputs": [
        {
          "output_type": "stream",
          "name": "stdout",
          "text": [
            "[[1 2 3]\n",
            " [4 5 6]]\n",
            "1\n",
            "6\n",
            "[1 4]\n",
            "[1 2 3]\n"
          ]
        }
      ]
    },
    {
      "cell_type": "code",
      "source": [
        "# max of it\n",
        "print(np.max(stats))\n",
        "\n",
        "print(np.max(stats, axis = 0))\n",
        "print(np.max(stats, axis = 1))"
      ],
      "metadata": {
        "colab": {
          "base_uri": "https://localhost:8080/"
        },
        "id": "IRuVe3VjmAfE",
        "outputId": "f0a31767-f61e-46cc-b44e-40912e095805"
      },
      "execution_count": 53,
      "outputs": [
        {
          "output_type": "stream",
          "name": "stdout",
          "text": [
            "6\n",
            "[4 5 6]\n",
            "[3 6]\n"
          ]
        }
      ]
    },
    {
      "cell_type": "code",
      "source": [
        "# summing stats\n",
        "np.sum(stats)\n",
        "\n",
        "np.sum(stats, axis = 0)\n",
        "np.sum(stats, axis = 1)\n",
        "\n",
        "# when axis = 0 -- column\n",
        "# when axis = 1 -- rows"
      ],
      "metadata": {
        "colab": {
          "base_uri": "https://localhost:8080/"
        },
        "id": "SoFyj6qM5N6H",
        "outputId": "9c1a5659-a665-4b8b-c7fa-e16d5eae374c"
      },
      "execution_count": 54,
      "outputs": [
        {
          "output_type": "execute_result",
          "data": {
            "text/plain": [
              "array([ 6, 15])"
            ]
          },
          "metadata": {},
          "execution_count": 54
        }
      ]
    },
    {
      "cell_type": "markdown",
      "source": [
        "# **Reorganizning Arrays**"
      ],
      "metadata": {
        "id": "NltVgaV76jn9"
      }
    },
    {
      "cell_type": "code",
      "source": [
        "before = np.array([[1,2,3,4],[5,6,7,8]])\n",
        "print(before)\n",
        "print(before.shape)\n",
        "\n",
        "# changing its shape\n",
        "after = before.reshape((8,1))\n",
        "\n",
        "print(after)\n",
        "\n",
        "after2 = before.reshape(4,2)\n",
        "\n",
        "print(after2)\n",
        "\n",
        "after3 = before.reshape(2,2,2)\n",
        "print(after3)\n",
        "print(after3.shape)\n"
      ],
      "metadata": {
        "colab": {
          "base_uri": "https://localhost:8080/"
        },
        "id": "M9yHZDu25gMK",
        "outputId": "3461dbe6-29ce-440f-b23b-3267df7cca87"
      },
      "execution_count": 55,
      "outputs": [
        {
          "output_type": "stream",
          "name": "stdout",
          "text": [
            "[[1 2 3 4]\n",
            " [5 6 7 8]]\n",
            "(2, 4)\n",
            "[[1]\n",
            " [2]\n",
            " [3]\n",
            " [4]\n",
            " [5]\n",
            " [6]\n",
            " [7]\n",
            " [8]]\n",
            "[[1 2]\n",
            " [3 4]\n",
            " [5 6]\n",
            " [7 8]]\n",
            "[[[1 2]\n",
            "  [3 4]]\n",
            "\n",
            " [[5 6]\n",
            "  [7 8]]]\n",
            "(2, 2, 2)\n"
          ]
        }
      ]
    },
    {
      "cell_type": "markdown",
      "source": [
        "You can just re organize it as long as it has the same number of elements\n",
        "like  \n",
        "2 * 2 * 2 = 8                \n",
        "2 * 4 = 8                  \n",
        "4 * 2 = 8             \n",
        "8 * 1 = 8              \n",
        "like that"
      ],
      "metadata": {
        "id": "ZqKKNHU_JMCJ"
      }
    },
    {
      "cell_type": "code",
      "source": [
        "# Vertically stacking vectors or matrices - dimension are important\n",
        "v1 = np.array([1,2,3,4])\n",
        "v2 = np.array([5,6,7,8])\n",
        "\n",
        "np.vstack([v1,v2])\n",
        "# now this will be a matrix and just stacks them in a matrix manner\n",
        "\n",
        "# doing it again and again(repetetive)\n",
        "np.vstack([v1,v2,v1,v2])\n",
        "\n",
        "# or i need 3 copies of v2 below 1 copy of v1\n",
        "np.vstack([v1,v2,v2,v2])"
      ],
      "metadata": {
        "colab": {
          "base_uri": "https://localhost:8080/"
        },
        "id": "7GE_MpOR6wfT",
        "outputId": "b5bc62bf-de72-4058-945a-8090dd2486dc"
      },
      "execution_count": 56,
      "outputs": [
        {
          "output_type": "execute_result",
          "data": {
            "text/plain": [
              "array([[1, 2, 3, 4],\n",
              "       [5, 6, 7, 8],\n",
              "       [5, 6, 7, 8],\n",
              "       [5, 6, 7, 8]])"
            ]
          },
          "metadata": {},
          "execution_count": 56
        }
      ]
    },
    {
      "cell_type": "code",
      "source": [
        "# Horizontal stack\n",
        "\n",
        "h1 = np.ones((2,4))\n",
        "h2 = np.zeros((2,2))\n",
        "\n",
        "np.hstack([h1,h2])\n",
        "\n",
        "print(h1)\n",
        "print(h2)\n",
        "print(np.hstack([h1,h2]))"
      ],
      "metadata": {
        "colab": {
          "base_uri": "https://localhost:8080/"
        },
        "id": "qiuvbKwFKETR",
        "outputId": "f79ac875-8eb3-455b-a916-cc5d630dfa63"
      },
      "execution_count": 57,
      "outputs": [
        {
          "output_type": "stream",
          "name": "stdout",
          "text": [
            "[[1. 1. 1. 1.]\n",
            " [1. 1. 1. 1.]]\n",
            "[[0. 0.]\n",
            " [0. 0.]]\n",
            "[[1. 1. 1. 1. 0. 0.]\n",
            " [1. 1. 1. 1. 0. 0.]]\n"
          ]
        }
      ]
    },
    {
      "cell_type": "code",
      "source": [],
      "metadata": {
        "id": "EZk9S9gGK3V-"
      },
      "execution_count": 57,
      "outputs": []
    },
    {
      "cell_type": "markdown",
      "source": [
        "# **Miscellaneous**\n",
        "\n",
        "**Load Data from File**"
      ],
      "metadata": {
        "id": "JtlyONwZL3hv"
      }
    },
    {
      "cell_type": "code",
      "source": [
        "from google.colab import drive\n",
        "drive.mount('/content/drive')\n",
        "\n",
        "\n",
        "fp = \"/content/drive/My Drive/Colab Notebooks/data.txt\"\n",
        "\n",
        "# delimiter - seperator\n",
        "filedata = np.genfromtxt(fp, delimiter = ',')\n",
        "print(filedata)\n",
        "# automatically casts it into float\n",
        "filedata = filedata.astype('int32')\n",
        "print(filedata)"
      ],
      "metadata": {
        "colab": {
          "base_uri": "https://localhost:8080/"
        },
        "id": "baymumM6MBxy",
        "outputId": "d6a19ff8-7c69-451a-96d5-2f2f83a56008"
      },
      "execution_count": 73,
      "outputs": [
        {
          "output_type": "stream",
          "name": "stdout",
          "text": [
            "Drive already mounted at /content/drive; to attempt to forcibly remount, call drive.mount(\"/content/drive\", force_remount=True).\n",
            "[[ 11. 178.  44.  41.  52.  46.  84.   5.  63.  98.  63.]\n",
            " [  3.   2.   5.   6.  89.  56.  22.  33.  54.  65.  89.]]\n",
            "[[ 11. 178.  44.  41.  52.  46.  84.   5.  63.  98.  63.]\n",
            " [  3.   2.   5.   6.  89.  56.  22.  33.  54.  65.  89.]]\n"
          ]
        }
      ]
    },
    {
      "cell_type": "markdown",
      "source": [
        "**Boolean masking and advanced indexing**"
      ],
      "metadata": {
        "id": "9_D1SdqObGfd"
      }
    },
    {
      "cell_type": "code",
      "source": [
        "# Advanced indexing\n",
        "\n",
        "print(filedata > 50)  # boolean based on the value\n",
        "\n",
        "print(filedata[filedata > 50]) # will output the values where the value is greater than 50"
      ],
      "metadata": {
        "colab": {
          "base_uri": "https://localhost:8080/"
        },
        "id": "9WHzS8A6NlJG",
        "outputId": "5a69ae32-a2fd-437f-8bf1-6dcf71bd451c"
      },
      "execution_count": 77,
      "outputs": [
        {
          "output_type": "stream",
          "name": "stdout",
          "text": [
            "[[False  True False False  True False  True False  True  True  True]\n",
            " [False False False False  True  True False False  True  True  True]]\n",
            "[178.  52.  84.  63.  98.  63.  89.  56.  54.  65.  89.]\n"
          ]
        }
      ]
    },
    {
      "cell_type": "code",
      "source": [
        "## You can index with a list in numpy\n",
        "a = np.array([1,2,3,4,5,6,7,8,9])\n",
        "# 0,2,last spots\n",
        "\n",
        "lst = [1,2,-1]\n",
        "\n",
        "a[lst] == a[[1,2,-1]]\n",
        "print(a[0:3:2]) # -- that start:end:step indexing"
      ],
      "metadata": {
        "colab": {
          "base_uri": "https://localhost:8080/"
        },
        "id": "6uUrkDBLWIJI",
        "outputId": "22e51faf-156a-42be-9342-c892ff393c2e"
      },
      "execution_count": 84,
      "outputs": [
        {
          "output_type": "stream",
          "name": "stdout",
          "text": [
            "[1 3]\n"
          ]
        }
      ]
    },
    {
      "cell_type": "code",
      "source": [
        "# any value is greater than 50 in filedata column wise\n",
        "print(filedata)\n",
        "\n",
        "print(np.any(filedata > 50, axis = 0))\n",
        "\n",
        "# checking row wise if there is any value in the row that is more than 50\n",
        "print(filedata)\n",
        "print(np.any(filedata > 50, axis = 1))\n",
        "\n",
        "\n",
        "# now checking if all the values with respect to the axis = 0 or axis = 1 are greater than 50\n",
        "print(np.all(filedata > 50, axis = 0)) # across column\n",
        "print(np.all(filedata > 50, axis = 1)) # across rows\n",
        "\n",
        "# greater than 50 and less than 100\n",
        "print(\"\\n\\ngreater than 50 and less than 100\")\n",
        "print(((filedata > 50) & (filedata < 100))) # (filedata > 50 & filedata < 100) wont work"
      ],
      "metadata": {
        "colab": {
          "base_uri": "https://localhost:8080/"
        },
        "id": "De4PxCQraZt9",
        "outputId": "4881a314-1e57-4e5f-f377-682f0c367e4e"
      },
      "execution_count": 99,
      "outputs": [
        {
          "output_type": "stream",
          "name": "stdout",
          "text": [
            "[[ 11. 178.  44.  41.  52.  46.  84.   5.  63.  98.  63.]\n",
            " [  3.   2.   5.   6.  89.  56.  22.  33.  54.  65.  89.]]\n",
            "[False  True False False  True  True  True False  True  True  True]\n",
            "[[ 11. 178.  44.  41.  52.  46.  84.   5.  63.  98.  63.]\n",
            " [  3.   2.   5.   6.  89.  56.  22.  33.  54.  65.  89.]]\n",
            "[ True  True]\n",
            "[False False False False  True False False False  True  True  True]\n",
            "[False False]\n",
            "\n",
            "\n",
            "greater than 50 and less than 100\n",
            "[[False False False False  True False  True False  True  True  True]\n",
            " [False False False False  True  True False False  True  True  True]]\n"
          ]
        }
      ]
    },
    {
      "cell_type": "code",
      "source": [
        "a = np.array([[1,2,3,4,5],[6,7,8,9,10],[11,12,13,14,15],[16,17,18,19,20],[21,22,23,24,25],[26,27,28,29,30]])\n",
        "\n",
        "print(a)"
      ],
      "metadata": {
        "colab": {
          "base_uri": "https://localhost:8080/"
        },
        "id": "B5YnKmBobbfh",
        "outputId": "e4d36c91-9352-4d82-8eb8-4a7af5ff42c2"
      },
      "execution_count": 104,
      "outputs": [
        {
          "output_type": "stream",
          "name": "stdout",
          "text": [
            "[[ 1  2  3  4  5]\n",
            " [ 6  7  8  9 10]\n",
            " [11 12 13 14 15]\n",
            " [16 17 18 19 20]\n",
            " [21 22 23 24 25]\n",
            " [26 27 28 29 30]]\n"
          ]
        }
      ]
    },
    {
      "cell_type": "code",
      "source": [
        "# slicing 11,12,16,17\n",
        "print(a[2:4,0:2])\n",
        "\n",
        "# slicing 2,8,14,20\n",
        "a[1:]"
      ],
      "metadata": {
        "colab": {
          "base_uri": "https://localhost:8080/"
        },
        "id": "JTQP2rl-eJMs",
        "outputId": "c470e0bb-fda7-4709-f652-80e7fcd3f70a"
      },
      "execution_count": 106,
      "outputs": [
        {
          "output_type": "stream",
          "name": "stdout",
          "text": [
            "[[11 12]\n",
            " [16 17]]\n"
          ]
        }
      ]
    },
    {
      "cell_type": "code",
      "source": [],
      "metadata": {
        "id": "ZJU-YozjfXQL"
      },
      "execution_count": null,
      "outputs": []
    }
  ]
}